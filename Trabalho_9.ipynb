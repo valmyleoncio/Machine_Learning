{
 "cells": [
  {
   "cell_type": "markdown",
   "metadata": {
    "id": "41cfqUbzMPhN"
   },
   "source": [
    "### Prevendo Ações - (Problema de Regressão)"
   ]
  },
  {
   "cell_type": "code",
   "execution_count": 1,
   "metadata": {
    "id": "5WnxOcf8MPhQ",
    "scrolled": true
   },
   "outputs": [],
   "source": [
    "import pandas as pd\n",
    "from pandas import Series\n",
    "from pandas import DataFrame,concat\n",
    "import matplotlib\n",
    "import numpy as np\n",
    "import matplotlib.pyplot as plt\n",
    "import yfinance as yf\n",
    "import warnings\n",
    "warnings.filterwarnings('ignore')\n",
    "%matplotlib inline "
   ]
  },
  {
   "cell_type": "code",
   "execution_count": 2,
   "metadata": {
    "colab": {
     "base_uri": "https://localhost:8080/"
    },
    "id": "Bo-u9IFIMPhT",
    "outputId": "11c616ff-539e-42d9-b7ac-d7180842d64a"
   },
   "outputs": [
    {
     "name": "stdout",
     "output_type": "stream",
     "text": [
      "Date\n",
      "2020-01-02 00:00:00-03:00    14.581382\n",
      "2020-01-03 00:00:00-03:00    14.462639\n",
      "2020-01-06 00:00:00-03:00    14.633624\n",
      "2020-01-07 00:00:00-03:00    14.576630\n",
      "2020-01-08 00:00:00-03:00    14.486386\n",
      "                               ...    \n",
      "2023-02-24 00:00:00-03:00    25.900000\n",
      "2023-02-27 00:00:00-03:00    26.150000\n",
      "2023-02-28 00:00:00-03:00    25.240000\n",
      "2023-03-01 00:00:00-03:00    25.299999\n",
      "2023-03-02 00:00:00-03:00    24.639999\n",
      "Name: Close, Length: 787, dtype: float64\n"
     ]
    }
   ],
   "source": [
    "# Dando carga nos dados\n",
    "from datetime import datetime\n",
    "\n",
    "# CREATE TICKER INSTANCE FOR AMAZON\n",
    "data = yf.Ticker(\"PETR4.SA\")\n",
    "\n",
    "# GET TODAYS DATE AND CONVERT IT TO A STRING WITH YYYY-MM-DD FORMAT (YFINANCE EXPECTS THAT FORMAT)\n",
    "end_date = datetime.now().strftime('%Y-%m-%d')\n",
    "data = data.history(start='2020-01-01',end=end_date)\n",
    "data = data['Close']\n",
    "print(data)"
   ]
  },
  {
   "cell_type": "code",
   "execution_count": 3,
   "metadata": {
    "colab": {
     "base_uri": "https://localhost:8080/"
    },
    "id": "IkZoZRlVMPhU",
    "outputId": "0b7481fc-2456-4037-ee29-b7be39785b2f"
   },
   "outputs": [
    {
     "name": "stdout",
     "output_type": "stream",
     "text": [
      "                                 min       mean       std        max  \\\n",
      "Date                                                                   \n",
      "2020-01-02 00:00:00-03:00        NaN        NaN       NaN        NaN   \n",
      "2020-01-03 00:00:00-03:00        NaN        NaN       NaN        NaN   \n",
      "2020-01-06 00:00:00-03:00  14.462639  14.559215  0.087621  14.633624   \n",
      "2020-01-07 00:00:00-03:00  14.462639  14.557631  0.087061  14.633624   \n",
      "2020-01-08 00:00:00-03:00  14.486386  14.565547  0.074242  14.633624   \n",
      "\n",
      "                                 t-2        t-1          t        t+1  \n",
      "Date                                                                   \n",
      "2020-01-02 00:00:00-03:00        NaN        NaN        NaN  14.581382  \n",
      "2020-01-03 00:00:00-03:00        NaN        NaN  14.581382  14.462639  \n",
      "2020-01-06 00:00:00-03:00        NaN  14.581382  14.462639  14.633624  \n",
      "2020-01-07 00:00:00-03:00  14.581382  14.462639  14.633624  14.576630  \n",
      "2020-01-08 00:00:00-03:00  14.462639  14.633624  14.576630  14.486386  \n"
     ]
    }
   ],
   "source": [
    "# Vamos extrair features e montar um dataset para previsão de valores absolutos de bitcoins.\n",
    "# exemplo de features para sliding window\n",
    "prices = data\n",
    "width  = 3\n",
    "window = prices.rolling(window=width)\n",
    "dataframe = concat([window.min(), window.mean(),window.std(), window.max(),prices.shift(3),prices.shift(2),prices.shift(1), prices], axis=1)\n",
    "dataframe.columns = ['min', 'mean', 'std','max','t-2','t-1','t', 't+1']\n",
    "print(dataframe.head(5))"
   ]
  },
  {
   "cell_type": "code",
   "execution_count": 4,
   "metadata": {
    "colab": {
     "base_uri": "https://localhost:8080/",
     "height": 382
    },
    "id": "kyxmK4u0MPhW",
    "outputId": "16f00003-9ed8-40e8-fd46-268ff646f685"
   },
   "outputs": [
    {
     "name": "stdout",
     "output_type": "stream",
     "text": [
      "                                min      mean       std       max  t-2  \\\n",
      "Date                                                                     \n",
      "2020-01-02 00:00:00-03:00       NaN       NaN       NaN       NaN  NaN   \n",
      "2020-01-03 00:00:00-03:00       NaN       NaN       NaN       NaN  NaN   \n",
      "2020-01-06 00:00:00-03:00       NaN       NaN       NaN       NaN  NaN   \n",
      "2020-01-07 00:00:00-03:00  0.005111  0.005111       NaN  0.005111  NaN   \n",
      "2020-01-08 00:00:00-03:00  0.001305  0.003208  0.002691  0.005111  NaN   \n",
      "\n",
      "                                t-1         t       t+1  \n",
      "Date                                                     \n",
      "2020-01-02 00:00:00-03:00       NaN       NaN       NaN  \n",
      "2020-01-03 00:00:00-03:00       NaN       NaN       NaN  \n",
      "2020-01-06 00:00:00-03:00       NaN       NaN  0.005111  \n",
      "2020-01-07 00:00:00-03:00       NaN  0.005111  0.001305  \n",
      "2020-01-08 00:00:00-03:00  0.005111  0.001305 -0.005435  \n"
     ]
    }
   ],
   "source": [
    "# alternativa\n",
    "# Dependendo do problema, prever valores absolutos ( ou mesmo normalizando posteriormente) pode ser difícil.\n",
    "# podemos tentar prver uma variação com relação a uma tendência local numa janela (ex. média local numa janela)\n",
    "prices    = data\n",
    "width     = 3\n",
    "window    = prices.rolling(window=width)\n",
    "variation = (prices - window.mean())/window.mean()\n",
    "window_rol =  variation.rolling(window=width)\n",
    "# abaixo o framework\n",
    "#window = shifted.rolling(window=width)\n",
    "dataframe = concat([variation.shift(3),variation.shift(2),variation.shift(1), variation], axis=1)\n",
    "features = ['t-2','t-1','t']\n",
    "dataframe.columns = features + ['t+1']\n",
    "# outra forma...\n",
    "vmean = dataframe[features].mean(axis=1)\n",
    "vmax  = dataframe[features].max(axis=1)\n",
    "vmin  = dataframe[features].min(axis=1)\n",
    "vstd  = dataframe[features].std(axis=1)\n",
    "dataframe = concat([vmin,vmean,vstd,vmax,dataframe], axis=1)\n",
    "features = ['min', 'mean', 'std','max'] + features \n",
    "dataframe.columns = features + ['t+1']\n",
    "print(dataframe.head(5))"
   ]
  },
  {
   "cell_type": "code",
   "execution_count": 5,
   "metadata": {
    "colab": {
     "base_uri": "https://localhost:8080/"
    },
    "id": "DLPkD8KdMPhX",
    "outputId": "176f1e7b-2fa6-4371-a2d8-c566d8c3a074",
    "scrolled": true
   },
   "outputs": [],
   "source": [
    "# É preciso substituir os nans por algum valor, Colocamos zero\n",
    "# Dependerá dos dados do seu problema.\n",
    "dataframe = dataframe.fillna(value=0)  \n",
    "from sklearn.model_selection import TimeSeriesSplit\n",
    "from sklearn.ensemble import RandomForestRegressor\n",
    "from sklearn.datasets import make_regression\n",
    "from sklearn.metrics import mean_absolute_error\n",
    "\n",
    "regr = RandomForestRegressor(random_state=0)\n",
    "\n",
    "X = dataframe.drop(['t+1'],axis=1).values\n",
    "y = dataframe['t+1'].values\n",
    "nsplits  = len(dataframe)-1 \n",
    "\n",
    "tscv = TimeSeriesSplit(n_splits=nsplits,max_train_size=100) # pode-se limitar a janela max_train_size\n",
    "r_true = []\n",
    "r_pred = []\n",
    "\n",
    "mae = []\n",
    "mape = [] # só faz sentido medir se a previsão for o dado bruto e não a previ~soa relativa com a média.\n",
    "for train_index, test_index in tscv.split(X):\n",
    "    if len(train_index)<50: \n",
    "        continue\n",
    "    X_train, X_test = X[train_index], X[test_index]\n",
    "    y_train, y_test = y[train_index], y[test_index]\n",
    "    regr.fit(X_train, y_train) \n",
    "    y_pred = regr.predict(X_test)\n",
    "    r_true += [y_test]\n",
    "    r_pred += [y_pred]\n",
    "\n",
    "    mae  += [mean_absolute_error(r_true,r_pred) ]\n",
    "    mape += [np.mean(np.abs((np.asarray(r_true) - np.asarray(r_pred)) / np.asarray(r_true))) * 100]"
   ]
  },
  {
   "cell_type": "code",
   "execution_count": 6,
   "metadata": {
    "colab": {
     "base_uri": "https://localhost:8080/",
     "height": 281
    },
    "id": "nOTSwHbqMPhZ",
    "outputId": "90d7843f-5b05-44c4-fcae-b5a930a8dbb8"
   },
   "outputs": [
    {
     "data": {
      "image/png": "[encoded data removed]",
      "text/plain": [
       "<Figure size 432x288 with 1 Axes>"
      ]
     },
     "metadata": {
      "needs_background": "light"
     },
     "output_type": "display_data"
    }
   ],
   "source": [
    "plt.plot(range(len(r_true)), r_true, label='true')\n",
    "plt.plot(range(len(r_pred)), r_pred, label='pred')\n",
    "plt.legend(loc='best')\n",
    "plt.title('Predictions')\n",
    "plt.show()"
   ]
  },
  {
   "cell_type": "code",
   "execution_count": 7,
   "metadata": {
    "colab": {
     "base_uri": "https://localhost:8080/",
     "height": 298
    },
    "id": "51b3PVrhMPha",
    "outputId": "dec01f64-a80b-4607-e7a0-5687097ecdda"
   },
   "outputs": [
    {
     "name": "stdout",
     "output_type": "stream",
     "text": [
      "avg of mae 0.019847222013640253\n"
     ]
    },
    {
     "data": {
      "image/png": "[encoded data removed]",
      "text/plain": [
       "<Figure size 432x288 with 1 Axes>"
      ]
     },
     "metadata": {
      "needs_background": "light"
     },
     "output_type": "display_data"
    }
   ],
   "source": [
    "print(\"avg of mae\",np.mean(mae))\n",
    "plt.plot(range(len(mae)), mae)\n",
    "plt.title('Mae')\n",
    "plt.show()"
   ]
  },
  {
   "cell_type": "code",
   "execution_count": 8,
   "metadata": {
    "colab": {
     "base_uri": "https://localhost:8080/",
     "height": 281
    },
    "id": "1wl4ra6uMPhb",
    "outputId": "2244bc53-f1be-43d5-f58f-41f81857dadd"
   },
   "outputs": [
    {
     "data": {
      "image/png": "[encoded data removed]",
      "text/plain": [
       "<Figure size 432x288 with 1 Axes>"
      ]
     },
     "metadata": {
      "needs_background": "light"
     },
     "output_type": "display_data"
    }
   ],
   "source": [
    "# só faz sentido para previsão de valores absolutos! a primeira forma de processamento. \n",
    "# A segunda forma (previsão de variação, não é adequada para esta)\n",
    "plt.plot(range(len(mape)), mape)\n",
    "plt.title('Mape')\n",
    "plt.show()"
   ]
  },
  {
   "cell_type": "markdown",
   "metadata": {},
   "source": [
    "### Prevendo Ações - (Problema de Classificação)"
   ]
  },
  {
   "cell_type": "code",
   "execution_count": 9,
   "metadata": {
    "id": "tyKvqOWYMPhd"
   },
   "outputs": [],
   "source": [
    "# O problema como regressão é difícil! que tal tratarmos como classificação?\n",
    "# Fazer em lab e analisra como classificação!"
   ]
  },
  {
   "cell_type": "code",
   "execution_count": 10,
   "metadata": {
    "id": "mYCM76GtN2zA"
   },
   "outputs": [],
   "source": [
    "limiar = 0.005\n",
    "variation[(variation > -limiar) & (variation < limiar)] = 0\n",
    "variation[variation > limiar] = 1\n",
    "variation[variation < -limiar] = -1\n",
    "dataframe['variation'] = variation"
   ]
  },
  {
   "cell_type": "code",
   "execution_count": 11,
   "metadata": {
    "colab": {
     "base_uri": "https://localhost:8080/"
    },
    "id": "htYFVRe_TZf-",
    "outputId": "baae2e4a-0d4e-4ca1-cd69-01ce61bf1318"
   },
   "outputs": [],
   "source": [
    "# É preciso substituir os nans por algum valor, Colocamos zero\n",
    "dataframe = dataframe.fillna(value=0)  \n",
    "from sklearn.model_selection import TimeSeriesSplit\n",
    "from sklearn.ensemble import RandomForestClassifier\n",
    "from sklearn.datasets import make_regression\n",
    "from sklearn.metrics import mean_absolute_error\n",
    "from sklearn.metrics import classification_report\n",
    "\n",
    "clf = RandomForestClassifier(random_state=0)\n",
    "\n",
    "X = dataframe.drop(['t+1'],axis=1).values\n",
    "y = dataframe['variation'].values\n",
    "nsplits  = len(dataframe)-1 \n",
    "\n",
    "tscv = TimeSeriesSplit(n_splits=nsplits,max_train_size=100) # pode-se limitar a janela max_train_size\n",
    "r_true = []\n",
    "r_pred = []\n",
    "\n",
    "for train_index, test_index in tscv.split(X):\n",
    "    if len(train_index)<50: \n",
    "        continue\n",
    "    X_train, X_test = X[train_index], X[test_index]\n",
    "    y_train, y_test = y[train_index], y[test_index]\n",
    "    clf.fit(X_train, y_train) \n",
    "    y_pred = clf.predict(X_test)\n",
    "    r_true += [y_test]\n",
    "    r_pred += [y_pred]"
   ]
  },
  {
   "cell_type": "code",
   "execution_count": 12,
   "metadata": {
    "colab": {
     "base_uri": "https://localhost:8080/"
    },
    "id": "MhDidjBnUf8C",
    "outputId": "32dba562-33fe-4070-8d5a-d50dfaa39d32"
   },
   "outputs": [
    {
     "name": "stdout",
     "output_type": "stream",
     "text": [
      "              precision    recall  f1-score   support\n",
      "\n",
      "           0       0.99      0.98      0.99       244\n",
      "           1       0.97      0.98      0.98       183\n",
      "          -1       1.00      1.00      1.00       310\n",
      "\n",
      "    accuracy                           0.99       737\n",
      "   macro avg       0.99      0.99      0.99       737\n",
      "weighted avg       0.99      0.99      0.99       737\n",
      "\n"
     ]
    }
   ],
   "source": [
    "target_names = ['0', '1', '-1']\n",
    "print(classification_report(r_true, r_pred, target_names=target_names))"
   ]
  }
 ],
 "metadata": {
  "colab": {
   "provenance": []
  },
  "kernelspec": {
   "display_name": "Python 3",
   "language": "python",
   "name": "python3"
  },
  "language_info": {
   "codemirror_mode": {
    "name": "ipython",
    "version": 3
   },
   "file_extension": ".py",
   "mimetype": "text/x-python",
   "name": "python",
   "nbconvert_exporter": "python",
   "pygments_lexer": "ipython3",
   "version": "3.8.8"
  }
 },
 "nbformat": 4,
 "nbformat_minor": 1
}
