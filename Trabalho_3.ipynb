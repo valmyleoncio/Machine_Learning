{
 "cells": [
  {
   "cell_type": "code",
   "execution_count": 1,
   "metadata": {},
   "outputs": [],
   "source": [
    "from sklearn.datasets import load_iris\n",
    "from sklearn.linear_model import LogisticRegression\n",
    "from sklearn.model_selection import train_test_split\n",
    "from sklearn.metrics import confusion_matrix\n",
    "from sklearn.metrics import accuracy_score\n",
    "from sklearn.metrics import classification_report\n",
    "from sklearn.model_selection import KFold\n",
    "from sklearn.model_selection import StratifiedKFold\n",
    "from sklearn.metrics import f1_score\n",
    "from prettytable import PrettyTable\n",
    "from sklearn import tree\n",
    "import numpy as np"
   ]
  },
  {
   "cell_type": "markdown",
   "metadata": {},
   "source": [
    "## Dataset"
   ]
  },
  {
   "cell_type": "code",
   "execution_count": 2,
   "metadata": {
    "scrolled": false
   },
   "outputs": [],
   "source": [
    "iris = load_iris()\n",
    "X = iris.data\n",
    "y = iris.target"
   ]
  },
  {
   "cell_type": "markdown",
   "metadata": {},
   "source": [
    "## Experimento Holdout"
   ]
  },
  {
   "cell_type": "code",
   "execution_count": 3,
   "metadata": {},
   "outputs": [
    {
     "name": "stdout",
     "output_type": "stream",
     "text": [
      "+-------+----------+--------+\n",
      "|       | Accuracy |   F1   |\n",
      "+-------+----------+--------+\n",
      "| Train |  0.9619  | 0.9624 |\n",
      "|  Test |  0.9778  | 0.9769 |\n",
      "+-------+----------+--------+\n"
     ]
    }
   ],
   "source": [
    "X_train, X_test, y_train, y_test = train_test_split(X, y, train_size=0.7, test_size=0.3)\n",
    "\n",
    "#LogisticRegression\n",
    "clf = LogisticRegression(max_iter=1000)\n",
    "clf.fit(X_train, y_train)\n",
    "train_pred = clf.predict(X_train)\n",
    "test_pred  = clf.predict(X_test)\n",
    "\n",
    "#Print Table\n",
    "table = PrettyTable(['','Accuracy', 'F1'])\n",
    "table.add_row(['Train', \"%.4f\" % accuracy_score(y_train, train_pred), \"%.4f\" % f1_score(y_train, train_pred, average='macro')])\n",
    "table.add_row(['Test',\"%.4f\" % accuracy_score(y_test, test_pred), \"%.4f\" % f1_score(y_test, test_pred, average='macro')])\n",
    "print(table)"
   ]
  },
  {
   "cell_type": "markdown",
   "metadata": {},
   "source": [
    "## Experimento 10-Fold"
   ]
  },
  {
   "cell_type": "code",
   "execution_count": 4,
   "metadata": {},
   "outputs": [
    {
     "name": "stdout",
     "output_type": "stream",
     "text": [
      "+---------+----------+--------+\n",
      "|         | Accuracy |   F1   |\n",
      "+---------+----------+--------+\n",
      "|  Fold 1 |  1.0000  | 1.0000 |\n",
      "|  Fold 2 |  1.0000  | 1.0000 |\n",
      "|  Fold 3 |  1.0000  | 1.0000 |\n",
      "|  Fold 4 |  1.0000  | 1.0000 |\n",
      "|  Fold 5 |  0.9333  | 0.4828 |\n",
      "|  Fold 6 |  0.8667  | 0.4643 |\n",
      "|  Fold 7 |  1.0000  | 1.0000 |\n",
      "|  Fold 8 |  0.8667  | 0.4643 |\n",
      "|  Fold 9 |  0.8667  | 0.4643 |\n",
      "| Fold 10 |  0.9333  | 0.4828 |\n",
      "+---------+----------+--------+\n",
      "+---------------+----------+--------+\n",
      "|               | Accuracy |   F1   |\n",
      "+---------------+----------+--------+\n",
      "| Total Average |  0.9467  | 0.7358 |\n",
      "+---------------+----------+--------+\n"
     ]
    }
   ],
   "source": [
    "kf        = KFold(n_splits=10)\n",
    "acc_list  = []\n",
    "f1_list   = []\n",
    "cont_fold = 0\n",
    "table = PrettyTable(['', 'Accuracy', 'F1'])\n",
    "\n",
    "for train_index, test_index in kf.split(X):\n",
    "    X_train, X_test = X[train_index], X[test_index]\n",
    "    y_train, y_test = y[train_index], y[test_index]\n",
    "    \n",
    "    #LogisticRegression\n",
    "    clf = LogisticRegression(max_iter=1000)\n",
    "    clf.fit(X_train, y_train)\n",
    "    y_pred = clf.predict(X_test)\n",
    "    acc_list.append(accuracy_score(y_test, y_pred))\n",
    "    f1_list.append(f1_score(y_test, y_pred, average='macro'))\n",
    "    cont_fold += 1\n",
    "    \n",
    "    #Table config\n",
    "    table.add_row(['Fold {0}'.format(cont_fold),\"%.4f\" % accuracy_score(y_test, y_pred), \n",
    "                 \"%.4f\" % f1_score(y_test, y_pred, average='macro')])\n",
    "\n",
    "#Tables print\n",
    "print(table)\n",
    "table.clear_rows()\n",
    "table.add_row(['Total Average', \"%.4f\" % np.average(acc_list), \"%.4f\" % np.average(f1_list)])\n",
    "print(table)"
   ]
  },
  {
   "cell_type": "markdown",
   "metadata": {},
   "source": [
    "## Experimento Comparando Classificadores"
   ]
  },
  {
   "cell_type": "code",
   "execution_count": 5,
   "metadata": {},
   "outputs": [
    {
     "name": "stdout",
     "output_type": "stream",
     "text": [
      "+------------+---------------------+---------------+\n",
      "|            | Logistic Regression | Decision Tree |\n",
      "+------------+---------------------+---------------+\n",
      "| Average F1 |        0.9731       |     0.9530    |\n",
      "+------------+---------------------+---------------+\n"
     ]
    }
   ],
   "source": [
    "class_1 = []\n",
    "class_2 = []\n",
    "\n",
    "kf = StratifiedKFold(n_splits=10)\n",
    "\n",
    "for train_index, test_index in kf.split(X, y):\n",
    "    X_train, X_test = X[train_index], X[test_index]\n",
    "    y_train, y_test = y[train_index], y[test_index]\n",
    "    \n",
    "    #LogisticRegression\n",
    "    clf = LogisticRegression(max_iter=1000)\n",
    "    clf.fit(X_train, y_train)\n",
    "    y_pred = clf.predict(X_test)\n",
    "    score  = f1_score(y_test, y_pred, average='macro')\n",
    "    class_1.append(score)\n",
    "    \n",
    "    #DecisionTree\n",
    "    clf = tree.DecisionTreeClassifier()\n",
    "    clf = clf.fit(X_train, y_train)\n",
    "    y_pred = clf.predict(X_test)\n",
    "    score  = f1_score(y_test, y_pred, average='macro')\n",
    "    class_2.append(score)\n",
    "\n",
    "#Print Table\n",
    "table = PrettyTable(['', 'Logistic Regression', 'Decision Tree'])\n",
    "table.add_row(['Average F1', \"%.4f\" % np.average(class_1), \"%.4f\" % np.average(class_2)])\n",
    "print(table)"
   ]
  }
 ],
 "metadata": {
  "kernelspec": {
   "display_name": "Python 3",
   "language": "python",
   "name": "python3"
  },
  "language_info": {
   "codemirror_mode": {
    "name": "ipython",
    "version": 3
   },
   "file_extension": ".py",
   "mimetype": "text/x-python",
   "name": "python",
   "nbconvert_exporter": "python",
   "pygments_lexer": "ipython3",
   "version": "3.8.8"
  }
 },
 "nbformat": 4,
 "nbformat_minor": 2
}
