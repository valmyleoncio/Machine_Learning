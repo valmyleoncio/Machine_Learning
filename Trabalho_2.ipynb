{
 "cells": [
  {
   "cell_type": "code",
   "execution_count": 1,
   "id": "dace9afd",
   "metadata": {},
   "outputs": [],
   "source": [
    "import numpy as np\n",
    "import seaborn as sn\n",
    "import pandas as pd\n",
    "import matplotlib.pyplot as plt\n",
    "import math\n",
    "from prettytable import PrettyTable"
   ]
  },
  {
   "cell_type": "markdown",
   "id": "cc9e03ce",
   "metadata": {},
   "source": [
    "## "
   ]
  },
  {
   "cell_type": "markdown",
   "id": "1aed3e88",
   "metadata": {},
   "source": [
    "# Regression Metrics "
   ]
  },
  {
   "cell_type": "markdown",
   "id": "77d8f3c5",
   "metadata": {},
   "source": [
    "$$\n",
    "MAE = \\frac{1}{n}\\sum_{i=1}^{n}|true_i-pred_i|\n",
    "$$"
   ]
  },
  {
   "cell_type": "code",
   "execution_count": 2,
   "id": "618c5cd8",
   "metadata": {},
   "outputs": [],
   "source": [
    "def mae(y_true, y_pred):\n",
    "        return sum([abs(y1 - y2) for y1, y2 in zip(y_true, y_pred)]) / len(y_true)"
   ]
  },
  {
   "cell_type": "markdown",
   "id": "669b4b97",
   "metadata": {},
   "source": [
    "$$\n",
    "MSE = \\frac{1}{n}\\sum_{i=1}^{n}(true_i-pred_i)^2\n",
    "$$"
   ]
  },
  {
   "cell_type": "code",
   "execution_count": 3,
   "id": "6b8ef8ed",
   "metadata": {},
   "outputs": [],
   "source": [
    "def mse(y_true, y_pred):\n",
    "        return sum([pow(y1 - y2, 2) for y1, y2 in zip(y_true, y_pred)]) / len(y_true)"
   ]
  },
  {
   "cell_type": "markdown",
   "id": "999e35db",
   "metadata": {},
   "source": [
    "$$\n",
    "RMSE = \\sqrt{\\frac{1}{n}\\sum_{i=1}^{n}(true_i-pred_i)^2}\n",
    "$$"
   ]
  },
  {
   "cell_type": "code",
   "execution_count": 4,
   "id": "cfab268c",
   "metadata": {},
   "outputs": [],
   "source": [
    "def rmse(y_true, y_pred):\n",
    "        return math.sqrt(sum([pow(y1 - y2, 2) for y1, y2 in zip(y_true, y_pred)]) / len(y_true))"
   ]
  },
  {
   "cell_type": "markdown",
   "id": "44431c63",
   "metadata": {},
   "source": [
    "$$\n",
    "MAPE = \\frac{100}{n}\\sum_{i=1}^{n}|\\frac {true_i-pred_i}{true_i}|\n",
    "$$"
   ]
  },
  {
   "cell_type": "code",
   "execution_count": 5,
   "id": "662d2ff3",
   "metadata": {},
   "outputs": [],
   "source": [
    "def mape(y_true, y_pred):\n",
    "        return sum([abs((y1 - y2) / y1) for y1, y2 in zip(y_true, y_pred)]) * 100 / len(y_true)"
   ]
  },
  {
   "cell_type": "markdown",
   "id": "90b292fa",
   "metadata": {},
   "source": [
    "## Regression Tests"
   ]
  },
  {
   "cell_type": "markdown",
   "id": "3cf0fdcf",
   "metadata": {},
   "source": [
    "### Test 1"
   ]
  },
  {
   "cell_type": "code",
   "execution_count": 6,
   "id": "22689e4e",
   "metadata": {},
   "outputs": [
    {
     "name": "stdout",
     "output_type": "stream",
     "text": [
      "MAE:  0.0\n",
      "MSE:  0.0\n",
      "RMSE: 0.0\n",
      "MAPE: 0.0\n"
     ]
    }
   ],
   "source": [
    "y_true  = [1, 2, 3, 4]\n",
    "y_pred  = [1, 2, 3, 4]\n",
    "\n",
    "print(\"MAE: \",mae(y_true, y_pred))\n",
    "print(\"MSE: \",mse(y_true, y_pred))\n",
    "print(\"RMSE:\",rmse(y_true, y_pred))\n",
    "print(\"MAPE:\",mape(y_true, y_pred))"
   ]
  },
  {
   "cell_type": "markdown",
   "id": "b5038ae0",
   "metadata": {},
   "source": [
    "### Test 2"
   ]
  },
  {
   "cell_type": "code",
   "execution_count": 7,
   "id": "f87d9e6a",
   "metadata": {},
   "outputs": [
    {
     "name": "stdout",
     "output_type": "stream",
     "text": [
      "MAE:  0.375\n",
      "MSE:  0.3125\n",
      "RMSE: 0.5590169943749475\n",
      "MAPE: 12.5\n"
     ]
    }
   ],
   "source": [
    "y_true  = [1, 2, 3, 4]\n",
    "y_pred  = [1, 2.5, 3, 5]\n",
    "\n",
    "print(\"MAE: \",mae(y_true, y_pred))\n",
    "print(\"MSE: \",mse(y_true, y_pred))\n",
    "print(\"RMSE:\",rmse(y_true, y_pred))\n",
    "print(\"MAPE:\",mape(y_true, y_pred))"
   ]
  },
  {
   "cell_type": "markdown",
   "id": "fad73886",
   "metadata": {},
   "source": [
    "##  "
   ]
  },
  {
   "cell_type": "markdown",
   "id": "79558508",
   "metadata": {},
   "source": [
    "# Classification Metrics "
   ]
  },
  {
   "cell_type": "markdown",
   "id": "52140f6a",
   "metadata": {},
   "source": [
    "$$\n",
    "Confusion \\ Matrix\n",
    "$$"
   ]
  },
  {
   "cell_type": "code",
   "execution_count": 8,
   "id": "ec91a441",
   "metadata": {},
   "outputs": [],
   "source": [
    "def confusion_matrix(y_true, y_pred, Print = False):\n",
    "    label  = len(np.unique(y_true))\n",
    "    matrix = np.zeros((label, label), dtype=np.int32)\n",
    "    result = []\n",
    "    \n",
    "    for y1,y2 in zip(y_true, y_pred):\n",
    "        matrix[y1, y2] += 1\n",
    "    \n",
    "    for x in range(label):\n",
    "        tp = matrix[x,x]\n",
    "        fn = sum(matrix[x,:]) - tp\n",
    "        fp = sum(matrix[:,x]) - tp\n",
    "        tn = matrix.sum() - (tp + fn + fp)\n",
    "        result.append([tp, fn, fp, tn])\n",
    "        \n",
    "    if Print:\n",
    "        df_cm = pd.DataFrame(matrix, range(label), range(label))\n",
    "        f, ax = plt.subplots(figsize=(6, 4))\n",
    "        sn.heatmap(df_cm, annot=True, annot_kws={\"size\": 16})\n",
    "        plt.title(\"Confusion Matrix\")\n",
    "        ax.xaxis.set_ticks_position('top')\n",
    "        ax.xaxis.set_label_position('top')\n",
    "        plt.show()\n",
    "        \n",
    "    return result #retorna a confusion matrix de cada classe"
   ]
  },
  {
   "cell_type": "markdown",
   "id": "a5ce97c3",
   "metadata": {},
   "source": [
    "$$\n",
    "Accuracy = \\frac{TP+TN}{TP+TN+FP+FN} \n",
    "$$"
   ]
  },
  {
   "cell_type": "code",
   "execution_count": 9,
   "id": "6c278fe3",
   "metadata": {},
   "outputs": [],
   "source": [
    "def accuracy(y_true, y_pred):\n",
    "    result = confusion_matrix(y_true, y_pred)\n",
    "    tp = 0; fn = 0; fp = 0; tn = 0\n",
    "    for x in range(len(result)):\n",
    "        tp += result[x][0]        \n",
    "        fn += result[x][1]        \n",
    "        fp += result[x][2]        \n",
    "        tn += result[x][3]\n",
    "    print(\"\\nAccuracy = \", (tp + tn)/(tp + tn + fp + fn))"
   ]
  },
  {
   "cell_type": "markdown",
   "id": "480773e5",
   "metadata": {},
   "source": [
    "$$\n",
    "Precision = \\frac{TP}{TP + FP} \\ \\ \\ Recall = \\frac{TP}{TP + FN} \\ \\ \\ F1 = \\frac{2PR}{P+R} \\\\ (by \\ class)\n",
    "$$"
   ]
  },
  {
   "cell_type": "code",
   "execution_count": 10,
   "id": "eecdff71",
   "metadata": {},
   "outputs": [],
   "source": [
    "def byClass(y_true, y_pred):\n",
    "    result = confusion_matrix(y_true, y_pred)\n",
    "    tp = 0; fn = 0; fp = 0; tn = 0\n",
    "    table = PrettyTable(['', 'Precision', 'Recall', \"F1\"])\n",
    "    for x in range(len(result)):\n",
    "        tp += result[x][0]        \n",
    "        fn += result[x][1]        \n",
    "        fp += result[x][2]\n",
    "        precis = (tp/(tp+fp))\n",
    "        recall = (tp/(tp+fn))\n",
    "        f1 = ((2*precis*recall) / (precis + recall))\n",
    "        table.add_row(['Class {0}'.format(x), \"%.2f\" % precis , \"%.2f\" % recall, \"%.2f\" % f1])\n",
    "    print(table)"
   ]
  },
  {
   "cell_type": "markdown",
   "id": "0135f9a7",
   "metadata": {},
   "source": [
    "$$\n",
    "MacroF1 = \\frac{2P'R'}{P'+ R'}\n",
    "$$"
   ]
  },
  {
   "cell_type": "code",
   "execution_count": 11,
   "id": "d10d6127",
   "metadata": {},
   "outputs": [],
   "source": [
    "def macrof1(y_true, y_pred):\n",
    "    result = confusion_matrix(y_true, y_pred)\n",
    "    recall = []\n",
    "    precis = []\n",
    "    for x in range(len(result)):\n",
    "        tp = result[x][0]        \n",
    "        fn = result[x][1]        \n",
    "        fp = result[x][2]\n",
    "        recall.append((tp/(tp+fn)))\n",
    "        precis.append((tp/(tp+fp)))\n",
    "    averageP = np.average(precis)\n",
    "    averageR = np.average(recall)\n",
    "    print(\"MacroF1  = \", (2*averageP*averageR)/(averageP + averageR))"
   ]
  },
  {
   "cell_type": "markdown",
   "id": "c836c874",
   "metadata": {},
   "source": [
    "$$\n",
    "MCC = \\frac{TP \\times TN - FP \\times FN}{\\sqrt{(TP+FP)(TP+FN)(TN+FP)(TN+FN)}}\n",
    "$$"
   ]
  },
  {
   "cell_type": "code",
   "execution_count": 12,
   "id": "70da85b3",
   "metadata": {},
   "outputs": [],
   "source": [
    "def mcc(y_true, y_pred):\n",
    "    result = confusion_matrix(y_true, y_pred)\n",
    "    tp = 0; fn = 0; fp = 0; tn = 0\n",
    "    for x in range(len(result)):\n",
    "        tp += result[x][0]        \n",
    "        fn += result[x][1]        \n",
    "        fp += result[x][2]        \n",
    "        tn += result[x][3]\n",
    "    mcc = (tp * tn - fp * fn)/math.sqrt((tp+fp)*(tp+fn)*(tn+fp)*(tn+fn))\n",
    "    print(\"MCC \\t = \", mcc)"
   ]
  },
  {
   "cell_type": "markdown",
   "id": "7a5d3681",
   "metadata": {},
   "source": [
    "## Classification Tests"
   ]
  },
  {
   "cell_type": "markdown",
   "id": "7f3d161c",
   "metadata": {},
   "source": [
    "### Teste 1"
   ]
  },
  {
   "cell_type": "code",
   "execution_count": 13,
   "id": "876ec708",
   "metadata": {
    "scrolled": false
   },
   "outputs": [
    {
     "data": {
      "image/png": "[encoded data removed]",
      "text/plain": [
       "<Figure size 432x288 with 2 Axes>"
      ]
     },
     "metadata": {
      "needs_background": "light"
     },
     "output_type": "display_data"
    },
    {
     "name": "stdout",
     "output_type": "stream",
     "text": [
      "+---------+-----------+--------+------+\n",
      "|         | Precision | Recall |  F1  |\n",
      "+---------+-----------+--------+------+\n",
      "| Class 0 |    1.00   |  1.00  | 1.00 |\n",
      "| Class 1 |    1.00   |  1.00  | 1.00 |\n",
      "+---------+-----------+--------+------+\n",
      "\n",
      "Accuracy =  1.0\n",
      "MacroF1  =  1.0\n",
      "MCC \t =  1.0\n"
     ]
    }
   ],
   "source": [
    "y_true = [1, 0, 1, 1, 0, 0, 1, 1, 1, 0]\n",
    "y_pred = [1, 0, 1, 1, 0, 0, 1, 1, 1, 0]\n",
    "\n",
    "confusion_matrix(y_true, y_pred, True)\n",
    "byClass(y_true, y_pred)\n",
    "accuracy(y_true, y_pred)\n",
    "macrof1(y_true, y_pred)\n",
    "mcc(y_true, y_pred)"
   ]
  },
  {
   "cell_type": "markdown",
   "id": "3676af39",
   "metadata": {},
   "source": [
    "### Test 2"
   ]
  },
  {
   "cell_type": "code",
   "execution_count": 14,
   "id": "634168d6",
   "metadata": {
    "scrolled": false
   },
   "outputs": [
    {
     "data": {
      "image/png": "[encoded data removed]",
      "text/plain": [
       "<Figure size 432x288 with 2 Axes>"
      ]
     },
     "metadata": {
      "needs_background": "light"
     },
     "output_type": "display_data"
    },
    {
     "name": "stdout",
     "output_type": "stream",
     "text": [
      "+---------+-----------+--------+------+\n",
      "|         | Precision | Recall |  F1  |\n",
      "+---------+-----------+--------+------+\n",
      "| Class 0 |    0.62   |  0.67  | 0.64 |\n",
      "| Class 1 |    0.60   |  0.65  | 0.63 |\n",
      "| Class 2 |    0.61   |  0.61  | 0.61 |\n",
      "+---------+-----------+--------+------+\n",
      "\n",
      "Accuracy =  0.7407407407407407\n",
      "MacroF1  =  0.6127603750047877\n",
      "MCC \t =  0.4166666666666667\n"
     ]
    }
   ],
   "source": [
    "y_true = [1, 0, 2, 1, 2, 0, 1, 2, 2, 2, 1, 2, 1, 1, 0, 2, 2, 0, 0, 2, 1, 2, 0, 1, 0, 2, 0, 2, 0, 2, 1, 0, 1, 1, 0, 0]\n",
    "y_pred = [1, 0, 1, 0, 2, 0, 2, 2, 1, 2, 1, 2, 2, 0, 0, 2, 0, 0, 0, 2, 1, 0, 2, 1, 2, 0, 1, 1, 1, 2, 1, 0, 1, 1, 0, 0]\n",
    "\n",
    "confusion_matrix(y_true, y_pred, True)\n",
    "byClass(y_true, y_pred)\n",
    "accuracy(y_true, y_pred)\n",
    "macrof1(y_true, y_pred)\n",
    "mcc(y_true, y_pred)"
   ]
  }
 ],
 "metadata": {
  "kernelspec": {
   "display_name": "Python 3",
   "language": "python",
   "name": "python3"
  },
  "language_info": {
   "codemirror_mode": {
    "name": "ipython",
    "version": 3
   },
   "file_extension": ".py",
   "mimetype": "text/x-python",
   "name": "python",
   "nbconvert_exporter": "python",
   "pygments_lexer": "ipython3",
   "version": "3.8.8"
  }
 },
 "nbformat": 4,
 "nbformat_minor": 5
}
