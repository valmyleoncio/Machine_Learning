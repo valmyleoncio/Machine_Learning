{
 "cells": [
  {
   "cell_type": "code",
   "execution_count": 1,
   "id": "384c7063",
   "metadata": {},
   "outputs": [],
   "source": [
    "# Importar bibliotecas necessárias\n",
    "import numpy as np\n",
    "import keras\n",
    "from keras.datasets import mnist\n",
    "from keras.models import Sequential\n",
    "from keras.layers import Dense\n",
    "from keras.optimizers import SGD\n",
    "import matplotlib.pyplot as plt\n",
    "\n",
    "# Carregar o dataset MNIST\n",
    "(x_train, y_train), (x_test, y_test) = mnist.load_data()"
   ]
  },
  {
   "cell_type": "code",
   "execution_count": 2,
   "id": "2275bbc6",
   "metadata": {},
   "outputs": [
    {
     "data": {
      "image/png": "[encoded data removed]",
      "text/plain": [
       "<Figure size 640x480 with 1 Axes>"
      ]
     },
     "metadata": {},
     "output_type": "display_data"
    }
   ],
   "source": [
    "# Mostrando um exemplo de imagem do dataset\n",
    "img = x_train[50]\n",
    "plt.imshow(img, cmap='gray')\n",
    "plt.show()"
   ]
  },
  {
   "cell_type": "code",
   "execution_count": 3,
   "id": "89f1bb4a",
   "metadata": {},
   "outputs": [],
   "source": [
    "# Formatar dados para ser usado pelo modelo (Transformando a imagem 2d em um numpy array)\n",
    "x_train = x_train.reshape(60000, 784)\n",
    "x_test = x_test.reshape(10000, 784)\n",
    "x_train = x_train.astype('float32')\n",
    "x_test = x_test.astype('float32')\n",
    "x_train /= 255\n",
    "x_test /= 255"
   ]
  },
  {
   "cell_type": "code",
   "execution_count": 4,
   "id": "46f750f0",
   "metadata": {},
   "outputs": [],
   "source": [
    "# Converter os rótulos para o formato categórico\n",
    "y_train = keras.utils.to_categorical(y_train, 10)\n",
    "y_test = keras.utils.to_categorical(y_test, 10)"
   ]
  },
  {
   "cell_type": "code",
   "execution_count": 5,
   "id": "e37b1e33",
   "metadata": {},
   "outputs": [],
   "source": [
    "# Criar o modelo\n",
    "model = Sequential()\n",
    "model.add(Dense(64, activation='sigmoid', input_shape=(784,)))\n",
    "model.add(Dense(10, activation='softmax'))"
   ]
  },
  {
   "cell_type": "code",
   "execution_count": 6,
   "id": "e9f19256",
   "metadata": {},
   "outputs": [],
   "source": [
    "# Compilar o modelo\n",
    "model.compile(loss='categorical_crossentropy',\n",
    "              optimizer=SGD(),\n",
    "              metrics=['accuracy'])"
   ]
  },
  {
   "cell_type": "code",
   "execution_count": 7,
   "id": "63340be5",
   "metadata": {
    "scrolled": false
   },
   "outputs": [
    {
     "name": "stdout",
     "output_type": "stream",
     "text": [
      "Epoch 1/20\n",
      "469/469 [==============================] - 2s 2ms/step - loss: 2.0469 - accuracy: 0.5082 - val_loss: 1.7865 - val_accuracy: 0.6915\n",
      "Epoch 2/20\n",
      "469/469 [==============================] - 1s 2ms/step - loss: 1.5984 - accuracy: 0.7141 - val_loss: 1.3947 - val_accuracy: 0.7622\n",
      "Epoch 3/20\n",
      "469/469 [==============================] - 1s 2ms/step - loss: 1.2672 - accuracy: 0.7714 - val_loss: 1.1175 - val_accuracy: 0.8017\n",
      "Epoch 4/20\n",
      "469/469 [==============================] - 1s 2ms/step - loss: 1.0413 - accuracy: 0.8022 - val_loss: 0.9350 - val_accuracy: 0.8287\n",
      "Epoch 5/20\n",
      "469/469 [==============================] - 1s 2ms/step - loss: 0.8910 - accuracy: 0.8220 - val_loss: 0.8115 - val_accuracy: 0.8419\n",
      "Epoch 6/20\n",
      "469/469 [==============================] - 1s 2ms/step - loss: 0.7874 - accuracy: 0.8365 - val_loss: 0.7246 - val_accuracy: 0.8522\n",
      "Epoch 7/20\n",
      "469/469 [==============================] - 1s 2ms/step - loss: 0.7124 - accuracy: 0.8467 - val_loss: 0.6602 - val_accuracy: 0.8616\n",
      "Epoch 8/20\n",
      "469/469 [==============================] - 1s 2ms/step - loss: 0.6557 - accuracy: 0.8539 - val_loss: 0.6106 - val_accuracy: 0.8692\n",
      "Epoch 9/20\n",
      "469/469 [==============================] - 1s 2ms/step - loss: 0.6112 - accuracy: 0.8610 - val_loss: 0.5713 - val_accuracy: 0.8744\n",
      "Epoch 10/20\n",
      "469/469 [==============================] - 1s 2ms/step - loss: 0.5754 - accuracy: 0.8663 - val_loss: 0.5393 - val_accuracy: 0.8787\n",
      "Epoch 11/20\n",
      "469/469 [==============================] - 1s 2ms/step - loss: 0.5460 - accuracy: 0.8710 - val_loss: 0.5126 - val_accuracy: 0.8831\n",
      "Epoch 12/20\n",
      "469/469 [==============================] - 1s 2ms/step - loss: 0.5212 - accuracy: 0.8748 - val_loss: 0.4899 - val_accuracy: 0.8863\n",
      "Epoch 13/20\n",
      "469/469 [==============================] - 1s 2ms/step - loss: 0.5002 - accuracy: 0.8783 - val_loss: 0.4706 - val_accuracy: 0.8883\n",
      "Epoch 14/20\n",
      "469/469 [==============================] - 1s 2ms/step - loss: 0.4820 - accuracy: 0.8806 - val_loss: 0.4540 - val_accuracy: 0.8910\n",
      "Epoch 15/20\n",
      "469/469 [==============================] - 1s 2ms/step - loss: 0.4662 - accuracy: 0.8829 - val_loss: 0.4394 - val_accuracy: 0.8934\n",
      "Epoch 16/20\n",
      "469/469 [==============================] - 1s 2ms/step - loss: 0.4524 - accuracy: 0.8852 - val_loss: 0.4267 - val_accuracy: 0.8950\n",
      "Epoch 17/20\n",
      "469/469 [==============================] - 1s 2ms/step - loss: 0.4401 - accuracy: 0.8873 - val_loss: 0.4155 - val_accuracy: 0.8972\n",
      "Epoch 18/20\n",
      "469/469 [==============================] - 1s 2ms/step - loss: 0.4292 - accuracy: 0.8891 - val_loss: 0.4054 - val_accuracy: 0.8987\n",
      "Epoch 19/20\n",
      "469/469 [==============================] - 1s 2ms/step - loss: 0.4194 - accuracy: 0.8909 - val_loss: 0.3962 - val_accuracy: 0.8995\n",
      "Epoch 20/20\n",
      "469/469 [==============================] - 1s 2ms/step - loss: 0.4106 - accuracy: 0.8923 - val_loss: 0.3883 - val_accuracy: 0.9011\n"
     ]
    },
    {
     "data": {
      "text/plain": [
       "<keras.callbacks.History at 0x1b283aaf2b0>"
      ]
     },
     "execution_count": 7,
     "metadata": {},
     "output_type": "execute_result"
    }
   ],
   "source": [
    "# Treinar o modelo\n",
    "model.fit(x_train, y_train,\n",
    "          batch_size=128,\n",
    "          epochs=20,\n",
    "          verbose=1,\n",
    "          validation_data=(x_test, y_test))"
   ]
  },
  {
   "cell_type": "code",
   "execution_count": 8,
   "id": "4f79699a",
   "metadata": {},
   "outputs": [
    {
     "name": "stdout",
     "output_type": "stream",
     "text": [
      "Test loss: 0.38834407925605774\n",
      "Test accuracy: 0.9010999798774719\n"
     ]
    }
   ],
   "source": [
    "# Avaliar o modelo\n",
    "score = model.evaluate(x_test, y_test, verbose=0)\n",
    "print('Test loss:', score[0])\n",
    "print('Test accuracy:', score[1])"
   ]
  }
 ],
 "metadata": {
  "kernelspec": {
   "display_name": "Python 3 (ipykernel)",
   "language": "python",
   "name": "python3"
  },
  "language_info": {
   "codemirror_mode": {
    "name": "ipython",
    "version": 3
   },
   "file_extension": ".py",
   "mimetype": "text/x-python",
   "name": "python",
   "nbconvert_exporter": "python",
   "pygments_lexer": "ipython3",
   "version": "3.10.4"
  }
 },
 "nbformat": 4,
 "nbformat_minor": 5
}
